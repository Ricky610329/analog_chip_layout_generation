{
 "cells": [
  {
   "cell_type": "code",
   "execution_count": 4,
   "id": "3b535d63",
   "metadata": {},
   "outputs": [
    {
     "name": "stdout",
     "output_type": "stream",
     "text": [
      "\n",
      "--- 測試開始 ---\n",
      "初始元件: Component(x=0, y=0, width=100, height=80, level=0, relation_id=0, generate_rule='', sub_components=None)\n",
      "新元件: Component(x=-25.0, y=0, width=50.0, height=80, level=1, relation_id=0, generate_rule='split_symmetric_1', sub_components=None)\n",
      "新元件: Component(x=25.0, y=0, width=50.0, height=80, level=1, relation_id=0, generate_rule='split_symmetric_1', sub_components=None)\n"
     ]
    }
   ],
   "source": [
    "# ===================================================================\n",
    "# 1. 匯入必要的類別與函式\n",
    "# ===================================================================\n",
    "from aclg.dataclass.component import Component\n",
    "from aclg.rules.split_basic import split_vertical, split_horizontal\n",
    "from aclg.rules.symetric.split_symmetric_1 import split_symmetric_1_horizontal, split_symmetric_1_vertical\n",
    "\n",
    "root_component = Component(x=0, y=0, width=100, height=80)\n",
    "\n",
    "print(\"\\n--- 測試開始 ---\")\n",
    "print(f\"初始元件: {root_component}\")\n",
    "\n",
    "new_components = split_symmetric_1_vertical(root_component)\n",
    "\n",
    "for comp in new_components:\n",
    "    print(f\"新元件: {comp}\")\n"
   ]
  },
  {
   "cell_type": "code",
   "execution_count": 6,
   "id": "dfcf6aef",
   "metadata": {},
   "outputs": [
    {
     "data": {
      "image/png": "[encoded data removed]",
      "text/plain": [
       "<Figure size 640x480 with 1 Axes>"
      ]
     },
     "metadata": {},
     "output_type": "display_data"
    }
   ],
   "source": [
    "import matplotlib.pyplot as plt\n",
    "import matplotlib.patches as patches\n",
    "\n",
    "# 建立一個新的圖形和子圖\n",
    "fig, ax = plt.subplots(1)\n",
    "\n",
    "\n",
    "# 設定坐標軸的範圍，使其能容納所有的元件\n",
    "min_x = min(comp.get_topleft()[0] for comp in new_components) if new_components else 0\n",
    "min_y = min(comp.get_topleft()[1] for comp in new_components) if new_components else 0\n",
    "max_x = max(comp.get_bottomright()[0] for comp in new_components) if new_components else 100\n",
    "max_y = max(comp.get_bottomright()[1] for comp in new_components) if new_components else 80\n",
    "ax.set_xlim(min_x - 5, max_x + 5)\n",
    "ax.set_ylim(min_y - 5, max_y + 5)\n",
    "ax.invert_yaxis() # 使 y 軸方向與佈局習慣一致 (上為 0)\n",
    "\n",
    "# 遍歷每一個元件，並繪製矩形\n",
    "for component in new_components:\n",
    "    x, y = component.get_topleft()\n",
    "    width = component.width\n",
    "    height = component.height\n",
    "    rect = patches.Rectangle((x, y), width, height, linewidth=1, edgecolor='blue', facecolor='none')\n",
    "    ax.add_patch(rect)\n",
    "    # 在矩形中心標示元件名稱 (可選)\n",
    "    center_x = x + width / 2\n",
    "    center_y = y + height / 2\n",
    "\n",
    "# 顯示圖形\n",
    "plt.show()"
   ]
  }
 ],
 "metadata": {
  "kernelspec": {
   "display_name": "ai_PROJECT",
   "language": "python",
   "name": "python3"
  },
  "language_info": {
   "codemirror_mode": {
    "name": "ipython",
    "version": 3
   },
   "file_extension": ".py",
   "mimetype": "text/x-python",
   "name": "python",
   "nbconvert_exporter": "python",
   "pygments_lexer": "ipython3",
   "version": "3.11.10"
  }
 },
 "nbformat": 4,
 "nbformat_minor": 5
}
